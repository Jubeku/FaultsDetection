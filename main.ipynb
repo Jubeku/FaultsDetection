{
 "cells": [
  {
   "cell_type": "markdown",
   "metadata": {},
   "source": [
    "# Completing mid-ocean ridge faults detection using semi-supervised learning"
   ]
  },
  {
   "cell_type": "markdown",
   "metadata": {},
   "source": [
    "![](content/image_faults.jpg)"
   ]
  },
  {
   "cell_type": "code",
   "execution_count": null,
   "metadata": {},
   "outputs": [],
   "source": [
    "import numpy as np\n",
    "import scipy.io\n",
    "import matplotlib.pyplot as plt\n",
    "import holoviews as hv\n",
    "hv.extension('bokeh')\n",
    "from skimage.morphology import binary_dilation\n",
    "from utils import dataSplit\n",
    "from model import unet, mean_iou\n",
    "from ipywidgets import interact, widgets"
   ]
  },
  {
   "cell_type": "markdown",
   "metadata": {},
   "source": [
    "## Given dataset"
   ]
  },
  {
   "cell_type": "code",
   "execution_count": null,
   "metadata": {},
   "outputs": [],
   "source": [
    "bat = scipy.io.loadmat(\"Bathy.mat\")['IMG2']\n",
    "fault = scipy.io.loadmat(\"Fault_Bool.mat\")['Fault_Bool']\n",
    "fault = binary_dilation(fault, selem=np.ones((10,10)))"
   ]
  },
  {
   "cell_type": "code",
   "execution_count": null,
   "metadata": {},
   "outputs": [],
   "source": [
    "bat_mean = np.nanmean(bat)\n",
    "bat_std = np.nanstd(bat)\n",
    "    \n",
    "x = dataSplit(bat, 256)\n",
    "y = dataSplit(fault, 256)\n",
    "x_all = np.copy(x)\n",
    "y_all = np.copy(y)\n",
    "\n",
    "idx = list(map(lambda x: not np.all(x), np.isnan(x).sum(axis=(1,2,3)) > (256**2) / 2))\n",
    "x = x[idx]\n",
    "y = y[idx]\n",
    "\n",
    "y_mean = y.mean(axis=(1, 2, 3))\n",
    "x = x[y_mean>0.05]\n",
    "y = y[y_mean>0.05]\n",
    "\n",
    "x_mean = np.nanmean(x, axis=(1, 2))[:, None, None, :]\n",
    "x_std = np.nanstd(x, axis=(1, 2))[:, None, None, :]\n",
    "x = (x - x_mean)/x_std\n",
    "x[np.isnan(x)] = 0\n",
    "\n",
    "x_all_mean = np.nanmean(x_all, axis=(1, 2))[:, None, None, :]\n",
    "x_all_std = np.nanstd(x_all, axis=(1, 2))[:, None, None, :]\n",
    "x_all = (x_all - x_all_mean)/x_all_std\n",
    "x_all[np.isnan(x_all)] = 0"
   ]
  },
  {
   "cell_type": "code",
   "execution_count": null,
   "metadata": {},
   "outputs": [],
   "source": [
    "@interact(index=widgets.IntSlider(min=0, max=len(x), step=1, value=2))\n",
    "def display(index):\n",
    "    fig, [ax1, ax2, ax3] = plt.subplots(nrows=1, ncols=3, figsize=(18, 5))\n",
    "    cm1 = ax1.pcolormesh(np.squeeze(x[index]), vmin=-2, vmax=2)\n",
    "    fig.colorbar(cm1, ax=ax1)\n",
    "    ax1.set_title(\"Sea levels\")\n",
    "\n",
    "    cm2 = ax2.pcolormesh(np.squeeze(y[index]), vmin=0, vmax=1)\n",
    "    fig.colorbar(cm2, ax=ax2)\n",
    "    ax2.set_title(\"Labeled fails\")\n",
    "\n",
    "    ax3.hist(bat.ravel())\n",
    "    ax3.set_title(\"Sea levels distribution\")\n",
    "\n",
    "    plt.show()"
   ]
  },
  {
   "cell_type": "markdown",
   "metadata": {},
   "source": [
    "## Training the model"
   ]
  },
  {
   "cell_type": "markdown",
   "metadata": {},
   "source": [
    "![](content/u-net-architecture.png)"
   ]
  },
  {
   "cell_type": "code",
   "execution_count": null,
   "metadata": {},
   "outputs": [],
   "source": [
    "input_shape = (256, 256, 1)\n",
    "\n",
    "model = unet(input_shape=input_shape)\n",
    "model.compile(optimizer='adam', loss='binary_crossentropy', metrics=[mean_iou])\n",
    "model.fit(x, y, epochs=30, batch_size=4, validation_split=0.2, verbose=0)\n",
    "y_pred = model.predict(x_all)"
   ]
  },
  {
   "cell_type": "markdown",
   "metadata": {},
   "source": [
    "## Evaluating predictions"
   ]
  },
  {
   "cell_type": "code",
   "execution_count": null,
   "metadata": {},
   "outputs": [],
   "source": [
    "y_pred_all = np.squeeze(y_pred.reshape((8, 15, 256, 256, 1)))\n",
    "\n",
    "y_pred_all = np.block([[y_pred_all[i, j] for i in range(8)] for j in range(15)])"
   ]
  },
  {
   "cell_type": "code",
   "execution_count": null,
   "metadata": {},
   "outputs": [],
   "source": [
    "y_all = np.squeeze(y_all.reshape((8, 15, 256, 256, 1)))\n",
    "\n",
    "y_all = np.block([[y_all[i, j] for i in range(8)] for j in range(15)])"
   ]
  },
  {
   "cell_type": "code",
   "execution_count": null,
   "metadata": {},
   "outputs": [],
   "source": [
    "hv.Image(bat.T)"
   ]
  },
  {
   "cell_type": "code",
   "execution_count": null,
   "metadata": {},
   "outputs": [],
   "source": [
    "hv.Image(np.squeeze(y_all).T) + hv.Image(np.squeeze(y_pred_all).T) + hv.Image(np.squeeze(y_pred_all).T>0.5)"
   ]
  },
  {
   "cell_type": "code",
   "execution_count": null,
   "metadata": {},
   "outputs": [],
   "source": []
  }
 ],
 "metadata": {
  "kernelspec": {
   "display_name": "Python 3",
   "language": "python",
   "name": "python3"
  },
  "language_info": {
   "codemirror_mode": {
    "name": "ipython",
    "version": 3
   },
   "file_extension": ".py",
   "mimetype": "text/x-python",
   "name": "python",
   "nbconvert_exporter": "python",
   "pygments_lexer": "ipython3",
   "version": "3.6.6"
  }
 },
 "nbformat": 4,
 "nbformat_minor": 2
}
